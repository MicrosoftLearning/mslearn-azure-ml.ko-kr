{
  "cells": [
    {
      "cell_type": "markdown",
      "metadata": {},
      "source": [
        "# 명령 작업으로 학습 스크립트 실행\n",
        "\n",
        "Azure Machine Learning용 Python SDK를 사용하여 스크립트를 명령 작업으로 제출할 수 있습니다. 작업을 사용하면 기계 학습 모델을 학습할 때 입력 매개 변수 및 출력을 쉽게 추적할 수 있습니다.\n",
        "\n",
        "## 시작하기 전에\n",
        "\n",
        "이 Notebook에서 코드를 실행하려면 **최신 버전의 azureml-ai-ml** 패키지가 필요합니다. 아래 셀의 명령을 실행하여 이 패키지가 설치되어 있는지 확인합니다.\n",
        "\n",
        "> **고**:\n",
        "> **azure-ai-ml** 패키지가 설치되지 않은 경우 를 실행 `pip install azure-ai-ml` 하여 설치합니다."
      ]
    },
    {
      "cell_type": "code",
      "execution_count": null,
      "metadata": {
        "vscode": {
          "languageId": "python"
        }
      },
      "outputs": [],
      "source": [
        "## 작업 영역에 연결\n",
        "\n",
        "필요한 SDK 패키지를 설치했으므로 작업 영역에 연결할 수 있습니다.\n",
        "\n",
        "작업 영역에 연결하려면 식별자 매개 변수(구독 ID, 리소스 그룹 이름 및 작업 영역 이름)가 필요합니다. 리소스 그룹 이름 및 작업 영역 이름이 이미 채워져 있습니다. 명령을 완료하려면 구독 ID만 필요합니다.\n",
        "\n",
        "필요한 매개 변수를 찾으려면 Studio의 오른쪽 위에 있는 구독 및 작업 영역 이름을 클릭합니다. 오른쪽에 창이 열립니다.\n",
        "\n",
        "<p style=\"color:red;font-size:120%;background-color:yellow;font-weight:bold\"> 구독 ID를 복사하고 **YOUR-SUBSCRIPTION-ID** 를 복사한 값으로 바꿉니다. </p>"
      ]
    },
    {
      "attachments": {},
      "cell_type": "markdown",
      "metadata": {},
      "source": [
        "## MLflow를 사용한 사용자 지정 추적\n",
        "\n",
        "스크립트를 작업으로 실행하는 경우 학습 스크립트에서 MLflow를 사용하여 모델을 추적할 수 있습니다. MLflow를 사용하면 작업 출력과 함께 저장하려는 사용자 지정 매개 변수, 메트릭 또는 아티팩트만 추적할 수 있습니다.\n",
        "\n",
        "다음 셀을 실행하여 **src** 폴더에 **train-model-mlflow.py** 스크립트를 만듭니다. 스크립트는 인수로 전달되는 동일한 폴더의 **diabetes.csv** 파일을 사용하여 분류 모델을 학습합니다. \n",
        "\n",
        "아래 코드를 검토하여 스크립트가 가져오 `mlflow` 고 기록할 수 있는지 확인합니다.\n",
        "\n",
        "- **매개 변수**로서의 정규화 속도입니다. \n",
        "- 정확도 및 **AUC를 메트릭으로 사용합니다**.\n",
        "- **아티팩**트로 그려진 ROC 곡선입니다."
      ]
    },
    {
      "cell_type": "code",
      "execution_count": null,
      "metadata": {
        "gather": {
          "logged": 1663753569264
        },
        "vscode": {
          "languageId": "python"
        }
      },
      "outputs": [],
      "source": [
        "이제 스크립트를 명령 작업으로 제출할 수 있습니다.\n",
        "\n",
        "아래 셀을 실행하여 모델을 학습시킵니다. "
      ]
    },
    {
      "cell_type": "code",
      "execution_count": null,
      "metadata": {
        "vscode": {
          "languageId": "python"
        }
      },
      "outputs": [],
      "source": [
        "스튜디오에서 **diabetes-train-mlflow** 작업으로 이동하여 실행한 명령 작업의 개요를 살펴봅니다.\n",
        "\n",
        "- **개요** 탭의 매개 변수 아래에서 기록된 매개 변수**를 찾습니다**.\n",
        "- 메트릭 탭에서 기록된 **메트릭을 찾습니다** .\n",
        "- 이미지 탭(특히 **이미지** ) 및 **출력 + 로그** 탭(모든 파일)에서 기록된 아티팩트 를 찾습니다."
      ]
    },
    {
      "cell_type": "markdown",
      "metadata": {},
      "source": [
        "## MLflow를 사용하여 자동 로깅\n",
        "\n",
        "MLflow는 사용자 지정 로깅을 사용하는 대신 모든 매개 변수, 메트릭 및 아티팩트도 자동으로 기록할 수 있습니다. MLflow를 사용하여 자동 로깅하려면 한 줄의 코드만 필요합니다.\n",
        "\n",
        "다음 셀을 실행하여 **src** 폴더에 **train-model-autolog.py** 스크립트를 만듭니다. 스크립트는 인수로 전달되는 동일한 폴더의 **diabetes.csv** 파일을 사용하여 분류 모델을 학습합니다. \n",
        "\n",
        "아래 코드를 검토하여 스크립트가 줄로 자동 로깅을 가져오 `mlflow` 고 사용하도록 설정하는지 확인합니다. \n",
        "\n",
        "`mlflow.autolog()`"
      ]
    },
    {
      "cell_type": "code",
      "execution_count": null,
      "metadata": {
        "vscode": {
          "languageId": "python"
        }
      },
      "outputs": [],
      "source": [
        "이제 스크립트를 명령 작업으로 제출할 수 있습니다.\n",
        "\n",
        "아래 셀을 실행하여 모델을 학습시킵니다. "
      ]
    },
    {
      "cell_type": "code",
      "execution_count": null,
      "metadata": {
        "vscode": {
          "languageId": "python"
        }
      },
      "outputs": [],
      "source": [
        "스튜디오에서 **diabetes-train-autolog** 작업으로 이동하여 실행한 명령 작업의 개요를 살펴봅니다.\n",
        "\n",
        "- **개요** 탭의 매개 변수 아래에서 기록된 매개 변수**를 찾습니다**.\n",
        "- 메트릭 탭에서 기록된 **메트릭을 찾습니다** .\n",
        "- 이미지 탭(특히 **이미지** ) 및 **출력 + 로그** 탭(모델 파일을 포함한 모든 파일)에서 기록된 아티팩트 를 찾습니다."
      ]
    },
    {
      "cell_type": "markdown",
      "metadata": {},
      "source": [
        "## MLflow를 사용하여 실험 보기 및 검색\n",
        "\n",
        "Azure Machine Learning Studio는 작업 실행을 보고 비교하는 데 사용하기 쉬운 UI입니다. 또는 MLflow를 사용하여 실험 작업을 볼 수 있습니다. \n",
        "\n",
        "작업 영역에서 작업을 나열하려면 다음 명령을 사용하여 작업 영역의 실험을 나열합니다.\n"
      ]
    },
    {
      "cell_type": "code",
      "execution_count": null,
      "metadata": {
        "vscode": {
          "languageId": "python"
        }
      },
      "outputs": [],
      "source": [
        "특정 실험을 검색하려면 해당 이름으로 가져올 수 있습니다."
      ]
    },
    {
      "cell_type": "markdown",
      "metadata": {},
      "source": [
        "실험 이름을 사용하여 해당 실험의 모든 작업을 검색할 수 있습니다."
      ]
    },
    {
      "cell_type": "markdown",
      "metadata": {},
      "source": [
        "작업 실행 및 출력을 보다 쉽게 비교하려면 검색을 구성하여 결과를 정렬할 수 있습니다. 예를 들어 다음 셀은 결과를 로 `start_time`정렬하고 최대 `2` 결과만 표시합니다. "
      ]
    },
    {
      "cell_type": "code",
      "execution_count": null,
      "metadata": {
        "vscode": {
          "languageId": "python"
        }
      },
      "outputs": [],
      "source": [
        "쿼리를 만들어 실행을 필터링할 수도 있습니다. 필터 쿼리 문자열은 SQL `WHERE` 절의 간소화된 버전으로 작성됩니다. \n",
        "\n",
        "필터링하려면 비교자의 두 클래스를 사용할 수 있습니다.\n",
        "\n",
        "- 숫자 비교기(메트릭): =, !=, >, >=, < 및 <=.\n",
        "- 문자열 비교자(매개 변수, 태그 및 특성): = 및 !=.\n",
        "\n",
        "[MLflow를 사용하여 실험을 추적하는 방법에](https://learn.microsoft.com/azure/machine-learning/how-to-track-experiments-mlflow) 대해 자세히 알아봅니다."
      ]
    },
    {
      "cell_type": "markdown",
      "metadata": {},
      "source": [
        "Now, you can submit the script as a command job.\n",
        "\n",
        "Run the cell below to train the model. "
      ]
    },
    {
      "cell_type": "code",
      "execution_count": null,
      "metadata": {
        "vscode": {
          "languageId": "python"
        }
      },
      "outputs": [],
      "source": [
        "from azure.ai.ml import command\n",
        "\n",
        "# configure job\n",
        "\n",
        "job = command(\n",
        "    code=\"./src\",\n",
        "    command=\"python train-model-autolog.py --training_data diabetes.csv\",\n",
        "    environment=\"AzureML-sklearn-0.24-ubuntu18.04-py37-cpu@latest\",\n",
        "    compute=\"aml-cluster\",\n",
        "    display_name=\"diabetes-train-autolog\",\n",
        "    experiment_name=\"diabetes-training\"\n",
        "    )\n",
        "\n",
        "# submit job\n",
        "returned_job = ml_client.create_or_update(job)\n",
        "aml_url = returned_job.studio_url\n",
        "print(\"Monitor your job at\", aml_url)"
      ]
    },
    {
      "cell_type": "markdown",
      "metadata": {},
      "source": [
        "In the Studio, navigate to the **diabetes-train-autolog** job to explore the overview of the command job you ran:\n",
        "\n",
        "- Find the logged parameters in the **Overview** tab, under **Params**.\n",
        "- Find the logged metrics in the **Metrics** tab.\n",
        "- Find the logged artifacts in the **Images** tab (specifically for images), and in the **Outputs + logs** tab (all files, including the model files)."
      ]
    },
    {
      "cell_type": "markdown",
      "metadata": {},
      "source": [
        "## Use MLflow to view and search for experiments\n",
        "\n",
        "The Azure Machine Learning Studio is an easy-to-use UI to view and compare job runs. Alternatively, you can use MLflow to view experiment jobs. \n",
        "\n",
        "To list the jobs in the workspace, use the following command to list the experiments in the workspace:\n"
      ]
    },
    {
      "cell_type": "code",
      "execution_count": null,
      "metadata": {
        "vscode": {
          "languageId": "python"
        }
      },
      "outputs": [],
      "source": [
        "import mlflow\n",
        "experiments = mlflow.list_experiments()\n",
        "for exp in experiments:\n",
        "    print(exp.name)"
      ]
    },
    {
      "cell_type": "markdown",
      "metadata": {},
      "source": [
        "To retrieve a specific experiment, you can get it by its name:"
      ]
    },
    {
      "cell_type": "code",
      "execution_count": null,
      "metadata": {
        "vscode": {
          "languageId": "python"
        }
      },
      "outputs": [],
      "source": [
        "experiment_name = \"diabetes-training\"\n",
        "exp = mlflow.get_experiment_by_name(experiment_name)\n",
        "print(exp)"
      ]
    },
    {
      "cell_type": "markdown",
      "metadata": {},
      "source": [
        "Using an experiment name, you can retrieve all jobs of that experiment:"
      ]
    },
    {
      "cell_type": "code",
      "execution_count": null,
      "metadata": {
        "vscode": {
          "languageId": "python"
        }
      },
      "outputs": [],
      "source": [
        "mlflow.search_runs(exp.experiment_id)"
      ]
    },
    {
      "cell_type": "markdown",
      "metadata": {},
      "source": [
        "To more easily compare job runs and outputs, you can configure the search to order the results. For example, the following cell orders the results by `start_time`, and only shows a maximum of `2` results: "
      ]
    },
    {
      "cell_type": "code",
      "execution_count": null,
      "metadata": {
        "vscode": {
          "languageId": "python"
        }
      },
      "outputs": [],
      "source": [
        "mlflow.search_runs(exp.experiment_id, order_by=[\"start_time DESC\"], max_results=2)"
      ]
    },
    {
      "cell_type": "markdown",
      "metadata": {},
      "source": [
        "You can even create a query to filter the runs. Filter query strings are written with a simplified version of the SQL `WHERE` clause. \n",
        "\n",
        "To filter, you can use two classes of comparators:\n",
        "\n",
        "- Numeric comparators (metrics): =, !=, >, >=, <, and <=.\n",
        "- String comparators (params, tags, and attributes): = and !=.\n",
        "\n",
        "Learn more about [how to track experiments with MLflow](https://learn.microsoft.com/azure/machine-learning/how-to-track-experiments-mlflow)."
      ]
    },
    {
      "cell_type": "code",
      "execution_count": null,
      "metadata": {
        "vscode": {
          "languageId": "python"
        }
      },
      "outputs": [],
      "source": [
        "query = \"metrics.AUC > 0.8 and tags.model_type = 'LogisticRegression'\"\n",
        "mlflow.search_runs(exp.experiment_id, filter_string=query)"
      ]
    }
  ],
  "metadata": {
    "kernel_info": {
      "name": "python38-azureml"
    },
    "kernelspec": {
      "display_name": "Python 3.8 - AzureML",
      "language": "python",
      "name": "python38-azureml"
    },
    "microsoft": {
      "host": {
        "AzureML": {
          "notebookHasBeenCompleted": true
        }
      }
    },
    "nteract": {
      "version": "nteract-front-end@1.0.0"
    },
    "vscode": {
      "interpreter": {
        "hash": "f2b2cd046deda8eabef1e765a11d0ec9aa9bd1d31d56ce79c815a38c323e14ec"
      }
    }
  },
  "nbformat": 4,
  "nbformat_minor": 2
}